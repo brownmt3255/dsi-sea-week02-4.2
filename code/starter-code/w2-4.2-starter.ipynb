{
 "cells": [
  {
   "cell_type": "code",
   "execution_count": 1,
   "metadata": {
    "collapsed": false
   },
   "outputs": [],
   "source": [
    "import scipy as sp\n",
    "import numpy as np\n",
    "import matplotlib as mpl\n",
    "import matplotlib.pyplot as plt\n",
    "from scipy import stats\n",
    "from scipy.stats import norm"
   ]
  },
  {
   "cell_type": "code",
   "execution_count": 49,
   "metadata": {
    "collapsed": false
   },
   "outputs": [
    {
     "name": "stdout",
     "output_type": "stream",
     "text": [
      "[ 0.26693836 -0.03659053  0.12822206  0.12976259 -0.75299214  0.49036884\n",
      "  1.65522637 -0.78849756 -0.21782834 -0.05033462  0.79725048 -0.58885953\n",
      "  0.39509743 -0.95754884 -0.72577226  1.35390438 -1.79067187 -0.95459134\n",
      " -0.82838086 -0.52735514  0.01909478  1.26243068 -0.30401194 -0.70974332\n",
      "  0.67689081 -0.48037234 -1.04711012 -0.86436518 -1.13677047  0.21595117\n",
      " -0.81502751  1.29318224  0.4015533   0.01599233 -3.17822867  1.86103695\n",
      "  0.41168203 -1.2207351   1.68092628 -1.36086456 -0.5141953   0.90502184\n",
      " -1.02692653  0.94351393  0.9005999   0.7261963   0.56852832 -0.74751026\n",
      " -0.93035824  1.8903658   0.41924464 -0.19916613  0.46607421  1.27118687\n",
      "  0.38505172 -1.15558959 -0.6057536  -1.0174015   0.29320789 -0.16365046\n",
      " -1.46344997 -0.89560606  0.62696998  0.15037892 -1.26271294 -1.25141384\n",
      "  1.14909611 -0.59267295  0.02109701  0.75770223 -0.21264039 -0.2562328\n",
      "  0.3302227   0.30644011 -0.47021757 -0.91628931 -0.92833799 -0.13960996\n",
      "  0.83785103 -2.48488079 -1.05808637 -0.40885472 -1.03467784  2.16230169\n",
      " -0.09165558 -0.63828922  0.79239492  0.65668518 -0.98861856 -0.12867691\n",
      " -2.48850864  0.33923188 -0.624978   -0.16781406  0.25768895 -0.96450156\n",
      "  1.18659727  0.23143373  0.80404034 -0.13012146]\n"
     ]
    }
   ],
   "source": [
    "# Generate a sequence of random variates, use the \n",
    "# random_state parameter which accepts an instance of \n",
    "# numpy.random.RandomState class, or an integer which is then used \n",
    "# to seed an internal RandomState object\n",
    "# example: random = norm.rvs(size=5, random_state=1234)\n",
    "\n",
    "random = norm.rvs(size=100, random_state=5431)\n",
    "\n",
    "print random"
   ]
  },
  {
   "cell_type": "code",
   "execution_count": null,
   "metadata": {
    "collapsed": true
   },
   "outputs": [],
   "source": []
  },
  {
   "cell_type": "code",
   "execution_count": 65,
   "metadata": {
    "collapsed": false
   },
   "outputs": [
    {
     "name": "stdout",
     "output_type": "stream",
     "text": [
      "The data is Left Skewed becuase skew < 0. This means data is weighted towards right (>) of mean.\n",
      "The data has a peaky distribution because Kurtosis is .38, above 0. And as shown in the histogram below\n",
      "\n",
      "\n",
      "Number of elements: 100\n",
      "Minimum: -3.178229 Maximum: 2.162302\n",
      "Mean: -0.128614\n",
      "Variance: 0.935481\n",
      "Skew : -0.151655\n",
      "Kurtosis: 0.380784\n"
     ]
    },
    {
     "data": {
      "image/png": "[encoded data removed]",
      "text/plain": [
       "<matplotlib.figure.Figure at 0x10e6c7650>"
      ]
     },
     "metadata": {},
     "output_type": "display_data"
    }
   ],
   "source": [
    "# Use scipy.stats 'describe' to find: number of elements, min, max, \n",
    "# variance, skew, and kurtosis. Let's take a look.\n",
    "\n",
    "n, min_max, mean, var, skew, kurt = stats.describe(random)\n",
    "\n",
    "print(\"The data is Left Skewed becuase skew < 0. This means data is weighted towards right (>) of mean.\")\n",
    "print(\"The data has a peaky distribution because Kurtosis is .38, above 0. And as shown in the histogram below\")\n",
    "print \"\\n\"\n",
    "print(\"Number of elements: {0:d}\".format(n))\n",
    "print(\"Minimum: {0:8.6f} Maximum: {1:8.6f}\".format(min_max[0], min_max[1]))\n",
    "print(\"Mean: {0:8.6f}\".format(mean))\n",
    "print(\"Variance: {0:8.6f}\".format(var))\n",
    "print(\"Skew : {0:8.6f}\".format(skew))\n",
    "print(\"Kurtosis: {0:8.6f}\".format(kurt))\n",
    "\n",
    "plt.hist(random)\n",
    "\n",
    "plt.show()\n",
    "\n"
   ]
  },
  {
   "cell_type": "code",
   "execution_count": 68,
   "metadata": {
    "collapsed": false
   },
   "outputs": [
    {
     "name": "stdout",
     "output_type": "stream",
     "text": [
      "Yes it is normal becuase our kurtosis is between -2 and +2.\n",
      "Number of elements: 1\n",
      "Minimum: 48.327950 Maximum: 48.327950\n",
      "Mean: 48.327950\n",
      "Variance:      nan\n",
      "Skew : 0.000000\n",
      "Kurtosis: -3.000000\n"
     ]
    },
    {
     "data": {
      "image/png": "[encoded data removed]",
      "text/plain": [
       "<matplotlib.figure.Figure at 0x10eec62d0>"
      ]
     },
     "metadata": {},
     "output_type": "display_data"
    }
   ],
   "source": [
    "#Bonus: Do your random numbers follow a normal distribution?\n",
    "print(\"Yes it is normal becuase our kurtosis is between -2 and +2.\")\n",
    "# If not, how would you create simulated normal distribution?\n",
    "norm_dist = stats.norm.rvs(loc=50, scale=2.0)\n",
    "\n",
    "n, min_max, mean, var, skew, kurt = stats.describe(norm_dist)\n",
    "\n",
    "\n",
    "print(\"Number of elements: {0:d}\".format(n))\n",
    "print(\"Minimum: {0:8.6f} Maximum: {1:8.6f}\".format(min_max[0], min_max[1]))\n",
    "print(\"Mean: {0:8.6f}\".format(mean))\n",
    "print(\"Variance: {0:8.6f}\".format(var))\n",
    "print(\"Skew : {0:8.6f}\".format(skew))\n",
    "print(\"Kurtosis: {0:8.6f}\".format(kurt))\n",
    "\n",
    "\n",
    "plt.hist(norm_dist)\n",
    "\n",
    "plt.show()\n"
   ]
  },
  {
   "cell_type": "code",
   "execution_count": null,
   "metadata": {
    "collapsed": true
   },
   "outputs": [],
   "source": []
  },
  {
   "cell_type": "code",
   "execution_count": null,
   "metadata": {
    "collapsed": true
   },
   "outputs": [],
   "source": []
  }
 ],
 "metadata": {
  "anaconda-cloud": {},
  "kernelspec": {
   "display_name": "Python [default]",
   "language": "python",
   "name": "python2"
  },
  "language_info": {
   "codemirror_mode": {
    "name": "ipython",
    "version": 2
   },
   "file_extension": ".py",
   "mimetype": "text/x-python",
   "name": "python",
   "nbconvert_exporter": "python",
   "pygments_lexer": "ipython2",
   "version": "2.7.12"
  }
 },
 "nbformat": 4,
 "nbformat_minor": 0
}
